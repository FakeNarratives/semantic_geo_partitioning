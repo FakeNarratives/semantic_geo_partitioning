{
 "cells": [
  {
   "cell_type": "code",
   "execution_count": null,
   "metadata": {},
   "outputs": [],
   "source": [
    "from math import prod\n",
    "\n",
    "import torch\n",
    "import pandas as pd\n",
    "from tqdm.auto import tqdm\n",
    "\n",
    "from utils import concept_influence\n",
    "from datasets.sanity_check import DummyConceptInfluenceDataset\n",
    "from datasets.batch_collate import collate_fn_ci\n",
    "\n",
    "NUM_SAMPLES = 32\n",
    "IMAGE_SIZE = (16, 16)\n",
    "MORPHOLOGICAL_DILATION = False\n",
    "\n",
    "BATCH_SIZE = 4\n",
    "NUM_WORKERS = 2"
   ]
  },
  {
   "cell_type": "code",
   "execution_count": null,
   "metadata": {},
   "outputs": [],
   "source": [
    "dummy_ci_dataset = torch.utils.data.DataLoader(\n",
    "    DummyConceptInfluenceDataset(dilation=MORPHOLOGICAL_DILATION, image_size=IMAGE_SIZE, dataset_size=NUM_SAMPLES),\n",
    "    batch_size=BATCH_SIZE,\n",
    "    collate_fn=collate_fn_ci,\n",
    "    num_workers=NUM_WORKERS,\n",
    ")\n",
    "\n",
    "\n",
    "result_records = []\n",
    "for batch in tqdm(dummy_ci_dataset):\n",
    "\n",
    "    batch_size = batch[\"attribution_maps\"].shape[0]\n",
    "    for i in range(batch_size):\n",
    "        per_sample_dict = {}\n",
    "        class_labels, intersection, concept_size_px = concept_influence(\n",
    "            batch[\"attribution_maps\"][i], batch[\"segmentation_maps\"][i]\n",
    "        )\n",
    "        per_sample_dict[\"class_label\"] = class_labels\n",
    "        per_sample_dict[\"intersection\"] = intersection\n",
    "        per_sample_dict[\"concept_size_px\"] = concept_size_px\n",
    "        for meta_k, meta_v in batch[\"metadata\"].items():\n",
    "            per_sample_dict[meta_k] = meta_v[i]\n",
    "\n",
    "    result_records.append(per_sample_dict)\n",
    "\n",
    "\n",
    "image_size_px = prod(list(batch[\"attribution_maps\"][0].shape))\n",
    "\n",
    "df = pd.DataFrame.from_records(\n",
    "    result_records,\n",
    ").explode([\"class_label\", \"intersection\", \"concept_size_px\"])\n",
    "df[\"concept_size_rel\"] = df[\"concept_size_px\"] / image_size_px\n",
    "df[\"concept_influence\"] = df[\"intersection\"] / df[\"concept_size_rel\"]"
   ]
  },
  {
   "cell_type": "code",
   "execution_count": null,
   "metadata": {},
   "outputs": [],
   "source": [
    "df"
   ]
  }
 ],
 "metadata": {
  "interpreter": {
   "hash": "559c9d11e156050ddd8f9c29bc5d11a031a9a07424f8aecc210cf6c2a64a9ce4"
  },
  "kernelspec": {
   "display_name": "Python 3.8.12 64-bit ('github_semantic_geo_partitioning': conda)",
   "language": "python",
   "name": "python3"
  },
  "language_info": {
   "codemirror_mode": {
    "name": "ipython",
    "version": 3
   },
   "file_extension": ".py",
   "mimetype": "text/x-python",
   "name": "python",
   "nbconvert_exporter": "python",
   "pygments_lexer": "ipython3",
   "version": "3.8.12"
  },
  "orig_nbformat": 4
 },
 "nbformat": 4,
 "nbformat_minor": 2
}
